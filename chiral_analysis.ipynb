{
  "nbformat": 4,
  "nbformat_minor": 0,
  "metadata": {
    "colab": {
      "name": "chiral_analysis.ipynb",
      "version": "0.3.2",
      "provenance": [],
      "collapsed_sections": [],
      "include_colab_link": true
    },
    "kernelspec": {
      "name": "python3",
      "display_name": "Python 3"
    }
  },
  "cells": [
    {
      "cell_type": "markdown",
      "metadata": {
        "id": "view-in-github",
        "colab_type": "text"
      },
      "source": [
        "<a href=\"https://colab.research.google.com/github/jfmalloy1/Space-Ecology-Seeds/blob/master/chiral_analysis.ipynb\" target=\"_parent\"><img src=\"https://colab.research.google.com/assets/colab-badge.svg\" alt=\"Open In Colab\"/></a>"
      ]
    },
    {
      "metadata": {
        "id": "gff_eTJReQgm",
        "colab_type": "text"
      },
      "cell_type": "markdown",
      "source": [
        "#Chiral analysis\n",
        "\n",
        "Analyze the chirality of various seed sets, as well as network expansion results\n",
        "\n",
        "*Taken from netexp-plotting.ipynb in ASU/Colab Notebooks/EncXP*"
      ]
    },
    {
      "metadata": {
        "id": "T_JOHBwEeepP",
        "colab_type": "code",
        "colab": {
          "base_uri": "https://localhost:8080/",
          "height": 122
        },
        "outputId": "7923915a-f59d-4a3c-9710-f5d8ccdb1f5a"
      },
      "cell_type": "code",
      "source": [
        "import pandas as pd\n",
        "import json\n",
        "\n",
        "import matplotlib.pyplot as mpl\n",
        "import seaborn as sns\n",
        "\n",
        "import plotly\n",
        "import plotly.plotly as py\n",
        "import plotly.graph_objs as go\n",
        "import numpy as np\n",
        "\n",
        "import csv\n",
        "\n",
        "plotly.offline.init_notebook_mode(connected=True) \n",
        "\n",
        "from google.colab import drive\n",
        "drive.mount('/content/gdrive')"
      ],
      "execution_count": 1,
      "outputs": [
        {
          "output_type": "display_data",
          "data": {
            "text/vnd.plotly.v1+html": "<script type=\"text/javascript\">window.PlotlyConfig = {MathJaxConfig: 'local'};</script><script type=\"text/javascript\">if (window.MathJax) {MathJax.Hub.Config({SVG: {font: \"STIX-Web\"}});}</script><script>requirejs.config({paths: { 'plotly': ['https://cdn.plot.ly/plotly-latest.min']},});if(!window._Plotly) {require(['plotly'],function(plotly) {window._Plotly=plotly;});}</script>",
            "text/html": [
              "<script type=\"text/javascript\">window.PlotlyConfig = {MathJaxConfig: 'local'};</script><script type=\"text/javascript\">if (window.MathJax) {MathJax.Hub.Config({SVG: {font: \"STIX-Web\"}});}</script><script>requirejs.config({paths: { 'plotly': ['https://cdn.plot.ly/plotly-latest.min']},});if(!window._Plotly) {require(['plotly'],function(plotly) {window._Plotly=plotly;});}</script>"
            ]
          },
          "metadata": {
            "tags": []
          }
        },
        {
          "output_type": "stream",
          "text": [
            "Go to this URL in a browser: https://accounts.google.com/o/oauth2/auth?client_id=947318989803-6bn6qk8qdgf4n4g3pfee6491hc0brc4i.apps.googleusercontent.com&redirect_uri=urn%3Aietf%3Awg%3Aoauth%3A2.0%3Aoob&scope=email%20https%3A%2F%2Fwww.googleapis.com%2Fauth%2Fdocs.test%20https%3A%2F%2Fwww.googleapis.com%2Fauth%2Fdrive%20https%3A%2F%2Fwww.googleapis.com%2Fauth%2Fdrive.photos.readonly%20https%3A%2F%2Fwww.googleapis.com%2Fauth%2Fpeopleapi.readonly&response_type=code\n",
            "\n",
            "Enter your authorization code:\n",
            "··········\n",
            "Mounted at /content/gdrive\n"
          ],
          "name": "stdout"
        }
      ]
    },
    {
      "metadata": {
        "id": "Hyo796lJeN_I",
        "colab_type": "code",
        "colab": {}
      },
      "cell_type": "code",
      "source": [
        "#Open kegg chirality, make a dictionary of chiral vs achiral (using force-chirality column)\n",
        "\n",
        "fpath = \"/content/gdrive/My Drive/ASU/Colab Notebooks/EncXP/kegg_chirality.csv\"\n",
        "\n",
        "chirality = {}\n",
        "with open(fpath) as kegg:\n",
        "  csv_reader = csv.reader(kegg)\n",
        "  next(csv_reader)\n",
        "  \n",
        "#Dictionary format: {Compound, if chiral = 1, else = 0}\n",
        "\n",
        "  for row in csv_reader:\n",
        "    if (int(row[6]) > 0):\n",
        "      c = row[0][:-4]\n",
        "      chirality[c] = 1\n",
        "    else:\n",
        "      c = row[0][:-4]\n",
        "      chirality[c] = 0\n",
        " "
      ],
      "execution_count": 0,
      "outputs": []
    },
    {
      "metadata": {
        "id": "U1kffUwWkz5c",
        "colab_type": "code",
        "colab": {}
      },
      "cell_type": "code",
      "source": [
        "#Read in set of compounds (for each domain, and for all total seeds) & analyze chirality\n",
        "\n",
        "#All compounds used in seed sets\n",
        "\n",
        "#bacteria\n",
        "all_sum = 0\n",
        "all_len = 0\n",
        "fpath = \"/content/gdrive/My Drive/ASU/Classes/SES 598: Space Ecology/Term Project/all_compounds.txt\"\n",
        "with open(fpath) as all_seeds:\n",
        "  for line in all_seeds:\n",
        "    all_len = len(line.split())\n",
        "    for s in line.split():\n",
        "      if s in chirality:\n",
        "        all_sum += int(chirality[s])\n"
      ],
      "execution_count": 0,
      "outputs": []
    },
    {
      "metadata": {
        "id": "9wO-5hLGfBOv",
        "colab_type": "code",
        "colab": {}
      },
      "cell_type": "code",
      "source": [
        "#bacteria\n",
        "b_sum = 0\n",
        "b_len = 0\n",
        "fpath = \"/content/gdrive/My Drive/ASU/Classes/SES 598: Space Ecology/Term Project/bacteria.txt\"\n",
        "with open(fpath) as b_seeds:\n",
        "  for line in b_seeds:\n",
        "    b_len = len(line.split())\n",
        "    for s in line.split():\n",
        "      if s in chirality:\n",
        "        b_sum += int(chirality[s])\n"
      ],
      "execution_count": 0,
      "outputs": []
    },
    {
      "metadata": {
        "id": "sOkHgTgVjzsQ",
        "colab_type": "code",
        "colab": {}
      },
      "cell_type": "code",
      "source": [
        "#archaea\n",
        "a_sum = 0\n",
        "a_len = 0\n",
        "fpath = \"/content/gdrive/My Drive/ASU/Classes/SES 598: Space Ecology/Term Project/archaea.txt\"\n",
        "with open(fpath) as a_seeds:\n",
        "  for line in a_seeds:\n",
        "    a_len = len(line.split())\n",
        "    for s in line.split():\n",
        "      if s in chirality:\n",
        "        a_sum += int(chirality[s])"
      ],
      "execution_count": 0,
      "outputs": []
    },
    {
      "metadata": {
        "id": "mfdcotCTkErr",
        "colab_type": "code",
        "colab": {}
      },
      "cell_type": "code",
      "source": [
        "#eukaryota\n",
        "e_sum = 0\n",
        "e_len = 0\n",
        "fpath = \"/content/gdrive/My Drive/ASU/Classes/SES 598: Space Ecology/Term Project/animals.txt\"\n",
        "with open(fpath) as e_seeds:\n",
        "  for line in e_seeds:\n",
        "    e_len = len(line.split())\n",
        "    for s in line.split():\n",
        "      if s in chirality:\n",
        "        e_sum += int(chirality[s])"
      ],
      "execution_count": 0,
      "outputs": []
    },
    {
      "metadata": {
        "id": "bitNyCf5fNOR",
        "colab_type": "code",
        "colab": {}
      },
      "cell_type": "code",
      "source": [
        "#Read in a set of seed sets & analyze chirality\n",
        "total_chirality = 0\n",
        "n = 0\n",
        "fpath = \"/content/gdrive/My Drive/ASU/Classes/SES 598: Space Ecology/Term Project/all_seeds.txt\"\n",
        "with open(fpath) as all_seeds:\n",
        "  for line in all_seeds:\n",
        "    l_sum = 0\n",
        "    for s in line.split():\n",
        "      if s in chirality:\n",
        "        l_sum += int(chirality[s])\n",
        "    total_chirality += float(l_sum) / len(line.split())\n",
        "    n += 1"
      ],
      "execution_count": 0,
      "outputs": []
    },
    {
      "metadata": {
        "id": "v5J-cgPjfR9r",
        "colab_type": "code",
        "colab": {}
      },
      "cell_type": "code",
      "source": [
        "#Read in results of network expansion (//TODO - get from netexp-plotting.ipynb) & analyze chirality\n",
        "\n",
        "sum = 0\n",
        "length = len(generations[\"compounds_cumulative\"].iloc[-1])\n",
        "\n",
        "for i in generations[\"compounds_cumulative\"].iloc[-1]:\n",
        "  if i in chirality:\n",
        "    sum = sum + int(chirality[i])"
      ],
      "execution_count": 0,
      "outputs": []
    },
    {
      "metadata": {
        "id": "fyQPkXkceyvb",
        "colab_type": "code",
        "colab": {
          "base_uri": "https://localhost:8080/",
          "height": 102
        },
        "outputId": "e301b741-815b-4211-a9c3-7dbb7e7f11df"
      },
      "cell_type": "code",
      "source": [
        "#Print data\n",
        "\n",
        "#all compounds\n",
        "print(\"Biosphere chirality: \", float(all_sum) / all_len)\n",
        "#bacterial sum\n",
        "print(\"Bacterial chirality: \", float(b_sum) / b_len)\n",
        "#archaea sum\n",
        "print(\"Archaea chirality: \", float(a_sum) / a_len)\n",
        "#eukaryotic sum\n",
        "print(\"Eukaryotic chirality: \", float(e_sum) / e_len)\n",
        "\n",
        "#Average chirality of each organism\n",
        "print(\"Average chirality: \", float(total_chirality) / n)\n",
        "\n",
        "#print sum\n",
        "#print float(sum) / length"
      ],
      "execution_count": 25,
      "outputs": [
        {
          "output_type": "stream",
          "text": [
            "Biosphere chirality:  0.6203904555314533\n",
            "Bacterial chirality:  0.6142697881828316\n",
            "Archaea chirality:  0.6203904555314533\n",
            "Eukaryotic chirality:  0.6607929515418502\n",
            "Average chirality:  0.689615286693618\n"
          ],
          "name": "stdout"
        }
      ]
    }
  ]
}